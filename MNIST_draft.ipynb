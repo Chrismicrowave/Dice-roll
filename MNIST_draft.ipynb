{
 "cells": [
  {
   "cell_type": "code",
   "execution_count": 3,
   "id": "through-telephone",
   "metadata": {},
   "outputs": [],
   "source": [
    "from keras.datasets import mnist\n",
    "import matplotlib.pyplot as plt\n",
    "from skimage import io\n",
    "import imgPrep\n",
    "import numpy as np\n",
    "from sklearn.neural_network import MLPClassifier\n",
    "from sklearn.model_selection import train_test_split\n",
    "from sklearn import svm\n",
    "from joblib import dump, load"
   ]
  },
  {
   "cell_type": "markdown",
   "id": "81447f3d-368d-42ed-8890-ebf647a550e3",
   "metadata": {
    "tags": []
   },
   "source": [
    "## Load and split Keras MNIST"
   ]
  },
  {
   "cell_type": "code",
   "execution_count": 4,
   "id": "declared-documentation",
   "metadata": {},
   "outputs": [],
   "source": [
    "(train_X, train_y), (test_X, test_y) = mnist.load_data()\n",
    "dataTX = test_X"
   ]
  },
  {
   "cell_type": "code",
   "execution_count": 5,
   "id": "8c5eb990-bdf7-4388-933e-422151cd008e",
   "metadata": {
    "tags": []
   },
   "outputs": [
    {
     "data": {
      "text/plain": [
       "(10000, 28, 28)"
      ]
     },
     "execution_count": 5,
     "metadata": {},
     "output_type": "execute_result"
    }
   ],
   "source": [
    "test_X.shape"
   ]
  },
  {
   "cell_type": "code",
   "execution_count": 6,
   "id": "charming-hudson",
   "metadata": {
    "collapsed": true,
    "jupyter": {
     "outputs_hidden": true
    },
    "tags": []
   },
   "outputs": [
    {
     "name": "stdout",
     "output_type": "stream",
     "text": [
      "(28, 28)\n"
     ]
    },
    {
     "data": {
      "text/plain": [
       "array([[  0,   0,   0,   0,   0,   0,   0,   0,   0,   0,   0,   0,   0,\n",
       "          0,   0,   0,   0,   0,   0,   0,   0,   0,   0,   0,   0,   0,\n",
       "          0,   0],\n",
       "       [  0,   0,   0,   0,   0,   0,   0,   0,   0,   0,   0,   0,   0,\n",
       "          0,   0,   0,   0,   0,   0,   0,   0,   0,   0,   0,   0,   0,\n",
       "          0,   0],\n",
       "       [  0,   0,   0,   0,   0,   0,   0,   0,   0,   0,   0,   0,   0,\n",
       "          0,   0,   0,   0,   0,   0,   0,   0,   0,   0,   0,   0,   0,\n",
       "          0,   0],\n",
       "       [  0,   0,   0,   0,   0,   0,   0,   0,   0,   0,   0,   0,   0,\n",
       "          0,   0,   0,   0,   0,   0,   0,   0,   0,   0,   0,   0,   0,\n",
       "          0,   0],\n",
       "       [  0,   0,   0,   0,   0,   0,   0,   0,   0,   0,   0,  11,  51,\n",
       "        254, 213, 254, 213,  82,   0,   0,   0,   0,   0,   0,   0,   0,\n",
       "          0,   0],\n",
       "       [  0,   0,   0,   0,   0,   0,   0,   0,   0,   0,   0, 173, 252,\n",
       "        253, 252, 253, 252, 243,  40,   0,   0,   0,   0,   0,   0,   0,\n",
       "          0,   0],\n",
       "       [  0,   0,   0,   0,   0,   0,   0,   0,   0,   0, 102, 254, 253,\n",
       "        244,  81,   0, 142, 254, 213,   0,   0,   0,   0,   0,   0,   0,\n",
       "          0,   0],\n",
       "       [  0,   0,   0,   0,   0,   0,   0,   0,   0,   0, 183, 253, 212,\n",
       "         40,   0,   0, 102, 253, 252,   0,   0,   0,   0,   0,   0,   0,\n",
       "          0,   0],\n",
       "       [  0,   0,   0,   0,   0,   0,   0,   0,   0, 113, 253, 203,   0,\n",
       "          0,   0,   0, 102, 254, 192,   0,   0,   0,   0,   0,   0,   0,\n",
       "          0,   0],\n",
       "       [  0,   0,   0,   0,   0,   0,   0,   0,   0, 152, 252, 162,   0,\n",
       "          0,   0,   0, 102, 253, 111,   0,   0,   0,   0,   0,   0,   0,\n",
       "          0,   0],\n",
       "       [  0,   0,   0,   0,   0,   0,   0,   0,   0, 152, 253, 203,   0,\n",
       "          0,   0,  31, 112, 203,   0,   0,   0,   0,   0,   0,   0,   0,\n",
       "          0,   0],\n",
       "       [  0,   0,   0,   0,   0,   0,   0,   0,   0,  51, 232, 243, 122,\n",
       "        102, 142, 233, 232, 203,   0,   0,   0,   0,   0,   0,   0,   0,\n",
       "          0,   0],\n",
       "       [  0,   0,   0,   0,   0,   0,   0,   0,   0,   0, 123, 254, 253,\n",
       "        254, 253, 254, 253, 254, 131,   0,   0,   0,   0,   0,   0,   0,\n",
       "          0,   0],\n",
       "       [  0,   0,   0,   0,   0,   0,   0,   0,   0,   0,   0,  50, 212,\n",
       "        253, 252, 233, 151, 253, 252,   0,   0,   0,   0,   0,   0,   0,\n",
       "          0,   0],\n",
       "       [  0,   0,   0,   0,   0,   0,   0,   0,   0,   0,   0,  11, 213,\n",
       "        254, 233, 123,   0, 132, 253,   0,   0,   0,   0,   0,   0,   0,\n",
       "          0,   0],\n",
       "       [  0,   0,   0,   0,   0,   0,   0,   0,   0,   0,   0,  92, 252,\n",
       "        253, 232,   0,   0,  51, 252,  41,   0,   0,   0,   0,   0,   0,\n",
       "          0,   0],\n",
       "       [  0,   0,   0,   0,   0,   0,   0,   0,   0,   0,  21, 214, 253,\n",
       "        224,  20,   0,   0,  51, 253, 102,   0,   0,   0,   0,   0,   0,\n",
       "          0,   0],\n",
       "       [  0,   0,   0,   0,   0,   0,   0,   0,   0,   0, 142, 253, 252,\n",
       "         40,   0,   0,   0,  31, 232, 102,   0,   0,   0,   0,   0,   0,\n",
       "          0,   0],\n",
       "       [  0,   0,   0,   0,   0,   0,   0,   0,   0,  31, 233, 244,  81,\n",
       "          0,   0,   0,   0,  11, 173, 234,  30,   0,   0,   0,   0,   0,\n",
       "          0,   0],\n",
       "       [  0,   0,   0,   0,   0,   0,   0,   0,   0, 132, 252, 162,   0,\n",
       "          0,   0,   0,   0,  51, 252, 253,  50,   0,   0,   0,   0,   0,\n",
       "          0,   0],\n",
       "       [  0,   0,   0,   0,   0,   0,   0,   0,   0, 153, 253, 123,   0,\n",
       "          0,   0,   0,   0,  51, 253, 244,  40,   0,   0,   0,   0,   0,\n",
       "          0,   0],\n",
       "       [  0,   0,   0,   0,   0,   0,   0,   0,   0, 152, 252, 243, 122,\n",
       "          0,   0,   0,   0, 173, 252, 162,   0,   0,   0,   0,   0,   0,\n",
       "          0,   0],\n",
       "       [  0,   0,   0,   0,   0,   0,   0,   0,   0,  41, 223, 255, 253,\n",
       "        255, 172, 153, 233, 255, 233,   0,   0,   0,   0,   0,   0,   0,\n",
       "          0,   0],\n",
       "       [  0,   0,   0,   0,   0,   0,   0,   0,   0,   0,  20, 112, 232,\n",
       "        253, 252, 253, 252, 131,  30,   0,   0,   0,   0,   0,   0,   0,\n",
       "          0,   0],\n",
       "       [  0,   0,   0,   0,   0,   0,   0,   0,   0,   0,   0,   0,   0,\n",
       "          0,   0,   0,   0,   0,   0,   0,   0,   0,   0,   0,   0,   0,\n",
       "          0,   0],\n",
       "       [  0,   0,   0,   0,   0,   0,   0,   0,   0,   0,   0,   0,   0,\n",
       "          0,   0,   0,   0,   0,   0,   0,   0,   0,   0,   0,   0,   0,\n",
       "          0,   0],\n",
       "       [  0,   0,   0,   0,   0,   0,   0,   0,   0,   0,   0,   0,   0,\n",
       "          0,   0,   0,   0,   0,   0,   0,   0,   0,   0,   0,   0,   0,\n",
       "          0,   0],\n",
       "       [  0,   0,   0,   0,   0,   0,   0,   0,   0,   0,   0,   0,   0,\n",
       "          0,   0,   0,   0,   0,   0,   0,   0,   0,   0,   0,   0,   0,\n",
       "          0,   0]], dtype=uint8)"
      ]
     },
     "execution_count": 6,
     "metadata": {},
     "output_type": "execute_result"
    },
    {
     "data": {
      "image/png": "[encoded data removed]",
      "text/plain": [
       "<Figure size 432x288 with 1 Axes>"
      ]
     },
     "metadata": {
      "needs_background": "light"
     },
     "output_type": "display_data"
    }
   ],
   "source": [
    "import random\n",
    "n = random.randint(0,10000)\n",
    "plt.imshow(train_X[n])\n",
    "print(train_X[n].shape)\n",
    "train_X[n]"
   ]
  },
  {
   "cell_type": "code",
   "execution_count": 7,
   "id": "weekly-assessment",
   "metadata": {
    "tags": []
   },
   "outputs": [],
   "source": [
    "train_X = train_X.reshape(60000,784)\n",
    "test_X = test_X.reshape(10000,784)\n",
    "train_X = train_X/255.0\n",
    "test_X = test_X/255.0"
   ]
  },
  {
   "cell_type": "markdown",
   "id": "2917408f-f1a2-43e1-b78f-a5507ffe4a35",
   "metadata": {},
   "source": [
    "## MLP Model and training"
   ]
  },
  {
   "cell_type": "code",
   "execution_count": 8,
   "id": "freelance-field",
   "metadata": {},
   "outputs": [],
   "source": [
    "mlp = MLPClassifier(\n",
    "    hidden_layer_sizes=(50,20,10),\n",
    "    max_iter=20,\n",
    "    alpha=1e-4,\n",
    "    solver='sgd',\n",
    "    verbose=10,\n",
    "    random_state=2,\n",
    "    learning_rate_init=0.1,\n",
    ")"
   ]
  },
  {
   "cell_type": "code",
   "execution_count": 9,
   "id": "amino-electron",
   "metadata": {},
   "outputs": [
    {
     "name": "stdout",
     "output_type": "stream",
     "text": [
      "Iteration 1, loss = 0.39963090\n",
      "Iteration 2, loss = 0.14658442\n",
      "Iteration 3, loss = 0.11366563\n",
      "Iteration 4, loss = 0.09783710\n",
      "Iteration 5, loss = 0.08517722\n",
      "Iteration 6, loss = 0.07406628\n",
      "Iteration 7, loss = 0.06894677\n",
      "Iteration 8, loss = 0.06298696\n",
      "Iteration 9, loss = 0.05827175\n",
      "Iteration 10, loss = 0.05355534\n",
      "Iteration 11, loss = 0.04902992\n",
      "Iteration 12, loss = 0.04795391\n",
      "Iteration 13, loss = 0.04404919\n",
      "Iteration 14, loss = 0.04070476\n",
      "Iteration 15, loss = 0.03706383\n",
      "Iteration 16, loss = 0.04121240\n",
      "Iteration 17, loss = 0.03643501\n",
      "Iteration 18, loss = 0.03728308\n",
      "Iteration 19, loss = 0.03274896\n",
      "Iteration 20, loss = 0.03183691\n"
     ]
    },
    {
     "name": "stderr",
     "output_type": "stream",
     "text": [
      "/Users/Chrismicrowave/.pyenv/versions/3.7.3/lib/python3.7/site-packages/sklearn/neural_network/_multilayer_perceptron.py:696: ConvergenceWarning: Stochastic Optimizer: Maximum iterations (20) reached and the optimization hasn't converged yet.\n",
      "  ConvergenceWarning,\n"
     ]
    },
    {
     "data": {
      "text/plain": [
       "MLPClassifier(hidden_layer_sizes=(50, 20, 10), learning_rate_init=0.1,\n",
       "              max_iter=20, random_state=2, solver='sgd', verbose=10)"
      ]
     },
     "execution_count": 9,
     "metadata": {},
     "output_type": "execute_result"
    }
   ],
   "source": [
    "mlp.fit(train_X,train_y)"
   ]
  },
  {
   "cell_type": "code",
   "execution_count": 10,
   "id": "informational-banana",
   "metadata": {},
   "outputs": [
    {
     "name": "stdout",
     "output_type": "stream",
     "text": [
      "Training set score:  0.99235\n",
      "Test set score:  0.9687\n"
     ]
    }
   ],
   "source": [
    "print(\"Training set score: \",mlp.score(train_X,train_y))\n",
    "print(\"Test set score: \",mlp.score(test_X,test_y))"
   ]
  },
  {
   "cell_type": "code",
   "execution_count": 24,
   "id": "c70acecf-b73f-4461-9a91-a08d2c270539",
   "metadata": {
    "tags": []
   },
   "outputs": [
    {
     "data": {
      "text/plain": [
       "['mlp.joblib']"
      ]
     },
     "execution_count": 24,
     "metadata": {},
     "output_type": "execute_result"
    }
   ],
   "source": [
    "dump(mlp,'mlp.joblib')"
   ]
  },
  {
   "cell_type": "markdown",
   "id": "7e2b58ab-4cc1-4569-b6ed-53c1919858ed",
   "metadata": {},
   "source": [
    "## Test with user hand writting input"
   ]
  },
  {
   "cell_type": "code",
   "execution_count": 11,
   "id": "fda2529f-e020-469c-bf8f-7ac39febf73e",
   "metadata": {
    "tags": []
   },
   "outputs": [],
   "source": [
    "import imgPrep"
   ]
  },
  {
   "cell_type": "code",
   "execution_count": 17,
   "id": "a338e2eb-7e54-4060-b21b-e4fcb9a24a10",
   "metadata": {},
   "outputs": [
    {
     "name": "stdout",
     "output_type": "stream",
     "text": [
      "[2]\n"
     ]
    },
    {
     "data": {
      "image/png": "[encoded data removed]",
      "text/plain": [
       "<Figure size 432x288 with 1 Axes>"
      ]
     },
     "metadata": {
      "needs_background": "light"
     },
     "output_type": "display_data"
    }
   ],
   "source": [
    "img = io.imread('images/guess.png')\n",
    "plt.imshow(img)\n",
    "\n",
    "data = imgPrep.imgPrep(img)\n",
    "plt.imshow(data)\n",
    "\n",
    "data2 = data.reshape(1,784)\n",
    "\n",
    "p = mlp.predict(data2)\n",
    "print(p)\n"
   ]
  },
  {
   "cell_type": "code",
   "execution_count": 18,
   "id": "ac1405fb-f27b-4079-a74d-ff61879ee160",
   "metadata": {
    "collapsed": true,
    "jupyter": {
     "outputs_hidden": true
    },
    "tags": []
   },
   "outputs": [
    {
     "data": {
      "text/plain": [
       "array([[  0,   0,   0,   0,   0,   0,   0,   0,   0,   0,   0,   0,   0,\n",
       "          0,   0,   0,   0,   0,   0,   0,   0,   0,   0,   0,   0,   0,\n",
       "          0,   0,   0,   0,   0,   0,   0,   0,   0,   0,   0,   0,   0,\n",
       "          0,   0,   0,   0,   0,   0,   0,   0,   0,   0,   0,   0,   0,\n",
       "          0,   0,   0,   0,   0,   0,   0,   0,   0,   0,   0,   0,   0,\n",
       "          0,   0,   0,   0,   0,  80, 159, 180, 149,  54,   0,   0,   0,\n",
       "          0,   0,   0,   0,   0,   0,   0,   0,   0,   0,   0,   0,   0,\n",
       "          0,   0,   0,   0, 104, 189, 229, 246, 254, 255, 253, 229,  70,\n",
       "          0,   0,   0,   0,   0,   0,   0,   0,   0,   0,   0,   0,   0,\n",
       "          0,   0, 123, 176, 215, 231, 249, 255, 255, 255, 251, 253, 255,\n",
       "        254, 191,   0,   0,   0,   0,   0,   0,   0,   0,   0,   0,   0,\n",
       "          0,   0,   0, 177, 252, 255, 255, 255, 254, 243, 207, 171, 107,\n",
       "        162, 244, 255, 254, 206,  79,   0,   0,   0,   0,   0,   0,   0,\n",
       "          0,   0,   0,   0,   0, 166, 248, 241, 212, 187, 156,  78,   0,\n",
       "          0,   0,   0, 142, 233, 255, 254, 186,   0,   0,   0,   0,   0,\n",
       "          0,   0,   0,   0,   0,   0,   0,   0,  86,  63,   0,   0,   0,\n",
       "          0,   0,   0,   0,   0,   0,  83, 241, 255, 226,   0,   0,   0,\n",
       "          0,   0,   0,   0,   0,   0,   0,   0,   0,   0,   0,   0,   0,\n",
       "          0,   0,   0,   0,   0,   0,   0,   0,  72, 240, 255, 220,   0,\n",
       "          0,   0,   0,   0,   0,   0,   0,   0,   0,   0,   0,   0,   0,\n",
       "          0,   0,   0,   0,   0,   0,   0,   0,   0,   0, 188, 255, 251,\n",
       "        140,   0,   0,   0,   0,   0,   0,   0,   0,   0,   0,   0,   0,\n",
       "          0,   0,   0,   0,   0,   0,   0,   0,   0,   0,   0, 122, 248,\n",
       "        255, 208,   0,   0,   0,   0,   0,   0,   0,   0,   0,   0,   0,\n",
       "          0,   0,   0,   0,   0,   0,   0,   0,   0,   0,   0,   0,   0,\n",
       "        216, 255, 249, 117,   0,   0,   0,   0,   0,   0,   0,   0,   0,\n",
       "          0,   0,   0,   0,   0,   0,   0,   0,   0,   0,   0,   0,   0,\n",
       "          0, 113, 248, 255, 191,   0,   0,   0,   0,   0,   0,   0,   0,\n",
       "          0,   0,   0,   0,   0,   0,   0,   0,   0,   0,   0,   0,   0,\n",
       "          0,  50, 158, 239, 255, 247,  99,   0,   0,   0,   0,   0,   0,\n",
       "          0,   0,   0,   0,   0,   0,   0,   0,   0,   0,   0,   0,   0,\n",
       "          0,   0,   0, 203, 254, 255, 249, 155,   0,   0,   0,   0,   0,\n",
       "          0,   0,   0,   0,   0,   0,   0,   0,   0,   0,   0,   0,   0,\n",
       "          0,   0,   0,   0, 173, 253, 255, 249, 155,   0,   0,   0,   0,\n",
       "          0,   0,   0,   0,   0,   0,   0,   0,   0,   0,   0,   0,   0,\n",
       "          0,   0,   0,  53,  83, 156, 252, 255, 249, 155,   0,   0,   0,\n",
       "          0,   0,   0,   0,   0,   0,   0,   0,   0,   0,   0,   0,   0,\n",
       "          0,   0,   0,   0,   0, 164, 238, 248, 255, 237, 146,   0,   0,\n",
       "          0,   0,   0,   0,   0,   0,   0,   0,   0,   0,   0,   0,   0,\n",
       "          0,   0,   0,   0,   0,   0, 126, 239, 255, 255, 245, 120,   0,\n",
       "          0,   0,   0,   0,   0,   0,   0,   0,   0,   0,   0,   0,   0,\n",
       "          0,   0,   0,   0,   0,   0,   0, 132, 244, 255, 255, 248, 161,\n",
       "          0,   0,   0,   0,   0,   0,   0,   0,   0,   0,   0,   0,   0,\n",
       "          0,   0,   0,   0,   0,   0,   0,   0,   0, 234, 255, 255, 243,\n",
       "        128,   0,   0,   0,   0,   0,   0,   0,   0,   0,   0,   0,   0,\n",
       "          0,   0,   0,   0,   0,   0,   0,   0,   0,   0,  84, 247, 255,\n",
       "        234, 108,   0,   0,   0,   0,   0,   0,   0,   0,   0,   0,   0,\n",
       "          0,   0,   0,   0,   0,   0,   0,   0,   0,   0,   0,   0, 185,\n",
       "        255, 252, 169,   0,   0,   0,   0,   0,   0,   0,   0,   0,   0,\n",
       "          0,   0,   0,   0,   0,   0,   0,   0,   0,   0,   0,   0,   0,\n",
       "        129, 251, 255, 207,   0,   0,   0,   0,   0,   0,   0,   0,   0,\n",
       "          0,   0,   0,   0,   0,   0,   0,   0,   0,   0,   0,   0,   0,\n",
       "          0,   0, 130, 253, 252, 132,   0,   0,   0,   0,   0,   0,   0,\n",
       "          0,   0,   0,   0,   0,   0,   0,   0,   0,   0,   0,   0,   0,\n",
       "          0,   0,   0,   0,  82, 172, 151,  63,   0,   0,   0,   0,   0,\n",
       "          0,   0,   0,   0,   0,   0,   0,   0,   0,   0,   0,   0,   0,\n",
       "          0,   0,   0,   0,   0,   0,   0,   0,   0,   0,   0,   0,   0,\n",
       "          0,   0,   0,   0,   0,   0,   0,   0,   0,   0,   0,   0,   0,\n",
       "          0,   0,   0,   0,   0,   0,   0,   0,   0,   0,   0,   0,   0,\n",
       "          0,   0,   0,   0,   0,   0,   0,   0,   0,   0,   0,   0,   0,\n",
       "          0,   0,   0,   0]], dtype=uint8)"
      ]
     },
     "execution_count": 18,
     "metadata": {},
     "output_type": "execute_result"
    }
   ],
   "source": [
    "data2"
   ]
  },
  {
   "cell_type": "markdown",
   "id": "bfd675b6-c812-4e1d-a74a-a48069c7ff33",
   "metadata": {},
   "source": [
    "## Check Test set sample"
   ]
  },
  {
   "cell_type": "code",
   "execution_count": 47,
   "id": "20a91238-8a9c-4afa-b37b-46c07060df8c",
   "metadata": {
    "tags": []
   },
   "outputs": [
    {
     "name": "stdout",
     "output_type": "stream",
     "text": [
      "[2]\n"
     ]
    },
    {
     "data": {
      "image/png": "[encoded data removed]",
      "text/plain": [
       "<Figure size 432x288 with 1 Axes>"
      ]
     },
     "metadata": {
      "needs_background": "light"
     },
     "output_type": "display_data"
    }
   ],
   "source": [
    "n = random.randint(0,10000)\n",
    "test = dataTX[n]\n",
    "plt.imshow(test)\n",
    "testR = test.reshape(1,784)\n",
    "ptest = mlp.predict(testR)\n",
    "print(ptest)"
   ]
  },
  {
   "cell_type": "code",
   "execution_count": 89,
   "id": "ef18b82f-59a4-4e40-98e9-486745299f5c",
   "metadata": {
    "collapsed": true,
    "jupyter": {
     "outputs_hidden": true
    },
    "tags": []
   },
   "outputs": [
    {
     "data": {
      "text/plain": [
       "array([[  0,   0,   0,   0,   0,   0,   0,   0,   0,   0,   0,   0,   0,\n",
       "          0,   0,   0,   0,   0,   0,   0,   0,   0,   0,   0,   0,   0,\n",
       "          0,   0,   0,   0,   0,   0,   0,   0,   0,   0,   0,   0,   0,\n",
       "          0,   0,   0,   0,   0,   0,   0,   0,   0,   0,   0,   0,   0,\n",
       "          0,   0,   0,   0,   0,   0,   0,   0,   0,   0,   0,   0,   0,\n",
       "          0,   0,   0,   0,   0,   0,   0,   0,   0,   0,   0,   0,   0,\n",
       "          0,   0,   0,   0,   0,   0,   0,   0,   0,   0,   0,   0,   0,\n",
       "          0,   0,   0,   0,   0,   0,   0,   0,   0,   0,   0,   0,   0,\n",
       "          0,   0,   0,   0,   0,   0,   0,   0,   0,   0,   0,   0,   0,\n",
       "          0,   0,   0,   0,   0,   0,   0,   0,  96, 143, 255, 254, 254,\n",
       "        254, 210,  25,   0,   0,   0,   0,   0,   0,   0,   0,   0,   0,\n",
       "          0,   0,   0,   0,   0,   0,   0,   0, 154, 234, 250, 253, 253,\n",
       "        253, 253, 253, 253, 181,   0,   0,   0,   0,   0,   0,   0,   0,\n",
       "          0,   0,   0,   0,   0,   0,   0,  11,  84, 213, 252, 253, 253,\n",
       "        253, 253, 253, 253, 253, 253, 191,   0,   0,   0,   0,   0,   0,\n",
       "          0,   0,   0,   0,   0,   0,   0,   0,  12, 157, 253, 253, 253,\n",
       "        253, 253, 253, 253, 253, 253, 253, 253, 191,   0,   0,   0,   0,\n",
       "          0,   0,   0,   0,   0,   0,   0,   0,   0,   0,  74, 253, 253,\n",
       "        253, 253, 253, 253, 247, 241, 253, 253, 253, 253, 191,   0,   0,\n",
       "          0,   0,   0,   0,   0,   0,   0,   0,   0,   0,   0,   0, 192,\n",
       "        253, 253, 253, 247, 239, 128, 112, 218, 253, 253, 253, 253, 110,\n",
       "          0,   0,   0,   0,   0,   0,   0,   0,   0,   0,   0,   0,   0,\n",
       "          0, 122, 253, 253, 253,  73,   0,   0, 120, 253, 253, 253, 253,\n",
       "        210,  27,   0,   0,   0,   0,   0,   0,   0,   0,   0,   0,   0,\n",
       "          0,   0,   0,  32, 218, 240,   6,   1,   0, 128, 252, 253, 253,\n",
       "        253, 253, 111,   0,   0,   0,   0,   0,   0,   0,   0,   0,   0,\n",
       "          0,   0,   0,   0,   0,   0, 112, 155,   0,   0,  32, 223, 253,\n",
       "        253, 253, 253, 168,  22,   0,   0,   0,   0,   0,   0,   0,   0,\n",
       "          0,   0,   0,   0,   0,   0,   0,   0,   0,   0,   0, 128, 223,\n",
       "        253, 253, 253, 253, 253,  13,   0,   0,   0,   0,   0,   0,   0,\n",
       "          0,   0,   0,   0,   0,   0,   0,   0,   0,   0,   0,   0,  25,\n",
       "        249, 253, 253, 253, 253, 226, 137,   4,   0,   0,   0,   0,   0,\n",
       "          0,   0,   0,   0,   0,   0,   0,   0,   0,   0,   0,   0,   0,\n",
       "         24, 210, 253, 253, 253, 253, 250,  98,   0,   0,   0,   0,   0,\n",
       "          0,   0,   0,   0,   0,   0,   0,   0,   0,   0,   0,   0,   0,\n",
       "          0,   1, 154, 253, 253, 253, 253, 226,  98,   0,   0,   0,   0,\n",
       "          0,   0,   0,   0,   0,   0,   0,   0,   0,   0,   0,   0,   0,\n",
       "          0,   0,   0, 102, 253, 253, 253, 253, 253, 205,  81,  54,  61,\n",
       "          7,   0,   0,   0,   0,   0,   0,   0,   0,   0,   0,   0,   0,\n",
       "          0,   0,   0,   0,  23, 205, 253, 253, 253, 253, 253, 251, 249,\n",
       "        246, 247, 241, 241, 207,  31,   0,   0,   0,   0,   0,   0,   0,\n",
       "          0,   0,   0,   0,   0,  25, 194, 253, 253, 253, 253, 253, 253,\n",
       "        253, 253, 253, 253, 253, 253, 253,  75,   0,   0,   0,   0,   0,\n",
       "          0,   0,   0,   0,   0,   0,   0,  76, 253, 253, 253, 253, 253,\n",
       "        253, 253, 253, 253, 253, 253, 253, 253, 238,  57,   0,   0,   0,\n",
       "          0,   0,   0,   0,   0,   0,   0,   0,   0,  76, 253, 253, 253,\n",
       "        253, 253, 253, 253, 253, 253, 253, 253, 214, 167,  57,   0,   0,\n",
       "          0,   0,   0,   0,   0,   0,   0,   0,   0,   0,   0,  70, 248,\n",
       "        253, 253, 253, 253, 253, 253, 249, 232, 229,  96,   5,   0,   0,\n",
       "          0,   0,   0,   0,   0,   0,   0,   0,   0,   0,   0,   0,   0,\n",
       "          0,  89, 116, 124, 253, 253, 130, 116,  94,   0,   0,   0,   0,\n",
       "          0,   0,   0,   0,   0,   0,   0,   0,   0,   0,   0,   0,   0,\n",
       "          0,   0,   0,   0,   0,   0,   0,   0,   0,   0,   0,   0,   0,\n",
       "          0,   0,   0,   0,   0,   0,   0,   0,   0,   0,   0,   0,   0,\n",
       "          0,   0,   0,   0,   0,   0,   0,   0,   0,   0,   0,   0,   0,\n",
       "          0,   0,   0,   0,   0,   0,   0,   0,   0,   0,   0,   0,   0,\n",
       "          0,   0,   0,   0,   0,   0,   0,   0,   0,   0,   0,   0,   0,\n",
       "          0,   0,   0,   0,   0,   0,   0,   0,   0,   0,   0,   0,   0,\n",
       "          0,   0,   0,   0,   0,   0,   0,   0,   0,   0,   0,   0,   0,\n",
       "          0,   0,   0,   0,   0,   0,   0,   0,   0,   0,   0,   0,   0,\n",
       "          0,   0,   0,   0]], dtype=uint8)"
      ]
     },
     "execution_count": 89,
     "metadata": {},
     "output_type": "execute_result"
    }
   ],
   "source": [
    "testR"
   ]
  },
  {
   "cell_type": "markdown",
   "id": "37832adf-9d57-4bdd-9c7d-ce7d1a51d69a",
   "metadata": {
    "tags": []
   },
   "source": [
    "## Try SVM model"
   ]
  },
  {
   "cell_type": "code",
   "execution_count": 33,
   "id": "technological-little",
   "metadata": {
    "tags": []
   },
   "outputs": [],
   "source": [
    "svcclf = svm.SVC(\n",
    "    gamma='scale',\n",
    "    class_weight='balanced',\n",
    "    C=10,\n",
    "    verbose = 10,\n",
    ")\n"
   ]
  },
  {
   "cell_type": "code",
   "execution_count": 34,
   "id": "e308da51-2dc3-42a8-b16b-117b4217589c",
   "metadata": {},
   "outputs": [
    {
     "name": "stdout",
     "output_type": "stream",
     "text": [
      "[LibSVM]"
     ]
    },
    {
     "data": {
      "text/plain": [
       "SVC(C=10, class_weight='balanced', verbose=10)"
      ]
     },
     "execution_count": 34,
     "metadata": {},
     "output_type": "execute_result"
    }
   ],
   "source": [
    "svcclf.fit(train_X,train_y)"
   ]
  },
  {
   "cell_type": "code",
   "execution_count": 35,
   "id": "fc9a596b-3fa7-45dc-b571-07218812a467",
   "metadata": {},
   "outputs": [
    {
     "name": "stdout",
     "output_type": "stream",
     "text": [
      "Test set score:  0.9838\n"
     ]
    }
   ],
   "source": [
    "print(\"Test set score: \",svcclf.score(test_X,test_y))"
   ]
  },
  {
   "cell_type": "code",
   "execution_count": null,
   "id": "7c5b1899-b469-46be-80ca-d6b59261a072",
   "metadata": {},
   "outputs": [],
   "source": [
    "dump(svcclf,'svcclf.joblib')"
   ]
  },
  {
   "cell_type": "markdown",
   "id": "4ad2a4ed-e3b2-41f5-9ec9-51c77436d366",
   "metadata": {},
   "source": [
    "## Check with test set"
   ]
  },
  {
   "cell_type": "code",
   "execution_count": 45,
   "id": "caring-scottish",
   "metadata": {},
   "outputs": [
    {
     "name": "stdout",
     "output_type": "stream",
     "text": [
      "[5]\n"
     ]
    },
    {
     "data": {
      "text/plain": [
       "<matplotlib.image.AxesImage at 0x15a96c438>"
      ]
     },
     "execution_count": 45,
     "metadata": {},
     "output_type": "execute_result"
    },
    {
     "data": {
      "image/png": "[encoded data removed]",
      "text/plain": [
       "<Figure size 432x288 with 1 Axes>"
      ]
     },
     "metadata": {
      "needs_background": "light"
     },
     "output_type": "display_data"
    }
   ],
   "source": [
    "n = random.randint(0,10000)\n",
    "aa = dataTX[n]\n",
    "a = aa.reshape(1,784)\n",
    "p = svcclf.predict(a)\n",
    "print(p)\n",
    "plt.imshow(aa)"
   ]
  },
  {
   "cell_type": "markdown",
   "id": "b4604858-ad87-4f7f-a828-92a0139013b9",
   "metadata": {},
   "source": [
    "# check with user input"
   ]
  },
  {
   "cell_type": "code",
   "execution_count": 43,
   "id": "73ebcd66-2dde-4827-8699-f7a92d70e114",
   "metadata": {
    "tags": []
   },
   "outputs": [
    {
     "name": "stdout",
     "output_type": "stream",
     "text": [
      "prediction:  [5]\n"
     ]
    },
    {
     "data": {
      "image/png": "[encoded data removed]",
      "text/plain": [
       "<Figure size 432x288 with 1 Axes>"
      ]
     },
     "metadata": {
      "needs_background": "light"
     },
     "output_type": "display_data"
    }
   ],
   "source": [
    "data = io.imread('images/guess.png')\n",
    "data = imgPrep.imgPrep(data)\n",
    "plt.imshow(data)\n",
    "\n",
    "a = data.reshape(1,784)\n",
    "p = svcclf.predict(a)\n",
    "\n",
    "print('prediction: ',p)"
   ]
  },
  {
   "cell_type": "code",
   "execution_count": null,
   "id": "linear-groove",
   "metadata": {},
   "outputs": [],
   "source": []
  }
 ],
 "metadata": {
  "kernelspec": {
   "display_name": "Python 3",
   "language": "python",
   "name": "python3"
  },
  "language_info": {
   "codemirror_mode": {
    "name": "ipython",
    "version": 3
   },
   "file_extension": ".py",
   "mimetype": "text/x-python",
   "name": "python",
   "nbconvert_exporter": "python",
   "pygments_lexer": "ipython3",
   "version": "3.7.3"
  }
 },
 "nbformat": 4,
 "nbformat_minor": 5
}
