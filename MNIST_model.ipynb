{
 "cells": [
  {
   "cell_type": "code",
   "execution_count": 1,
   "id": "through-telephone",
   "metadata": {},
   "outputs": [],
   "source": [
    "from keras.datasets import mnist\n",
    "import matplotlib.pyplot as plt\n",
    "from skimage import io\n",
    "import imgPrep\n",
    "import numpy as np\n",
    "from sklearn.neural_network import MLPClassifier\n",
    "from sklearn.model_selection import train_test_split\n",
    "from sklearn import svm\n",
    "from joblib import dump, load"
   ]
  },
  {
   "cell_type": "markdown",
   "id": "81447f3d-368d-42ed-8890-ebf647a550e3",
   "metadata": {
    "tags": []
   },
   "source": [
    "## Load and split Keras MNIST"
   ]
  },
  {
   "cell_type": "code",
   "execution_count": 2,
   "id": "declared-documentation",
   "metadata": {},
   "outputs": [],
   "source": [
    "(train_X, train_y), (test_X, test_y) = mnist.load_data()\n",
    "dataTX = test_X"
   ]
  },
  {
   "cell_type": "code",
   "execution_count": 3,
   "id": "8c5eb990-bdf7-4388-933e-422151cd008e",
   "metadata": {
    "tags": []
   },
   "outputs": [
    {
     "data": {
      "text/plain": [
       "(10000, 28, 28)"
      ]
     },
     "execution_count": 3,
     "metadata": {},
     "output_type": "execute_result"
    }
   ],
   "source": [
    "test_X.shape"
   ]
  },
  {
   "cell_type": "code",
   "execution_count": 4,
   "id": "charming-hudson",
   "metadata": {
    "tags": []
   },
   "outputs": [
    {
     "name": "stdout",
     "output_type": "stream",
     "text": [
      "(28, 28)\n"
     ]
    },
    {
     "data": {
      "text/plain": [
       "array([[  0,   0,   0,   0,   0,   0,   0,   0,   0,   0,   0,   0,   0,\n",
       "          0,   0,   0,   0,   0,   0,   0,   0,   0,   0,   0,   0,   0,\n",
       "          0,   0],\n",
       "       [  0,   0,   0,   0,   0,   0,   0,   0,   0,   0,   0,   0,   0,\n",
       "          0,   0,   0,   0,   0,   0,   0,   0,   0,   0,   0,   0,   0,\n",
       "          0,   0],\n",
       "       [  0,   0,   0,   0,   0,   0,   0,   0,   0,   0,   0,   0,   0,\n",
       "          0,   0,   0,   0,   0,   0,   0,   0,   0,   0,   0,   0,   0,\n",
       "          0,   0],\n",
       "       [  0,   0,   0,   0,   0,   0,   0,   0,   0,   0,   0,   0,   0,\n",
       "          0,   0,   0,   0,   0,   0,   0,   0,   0,   0,   0,   0,   0,\n",
       "          0,   0],\n",
       "       [  0,   0,   0,   0,   0,   0,   0,   0,   0,   0,   0,   0,   0,\n",
       "          0,   0,   0,   0,   0,   0,   0,   0,   0,   0,   0,   0,   0,\n",
       "          0,   0],\n",
       "       [  0,   0,   0,   0,   0,   0,   0,   0,   0,   0,   0,   0,   0,\n",
       "          0,   0,   0,   0,   0,   0,   0,   0,   0,   0,   0,   0,   0,\n",
       "          0,   0],\n",
       "       [  0,   0,   0,   0,   0,   0,   0,   0,   0,   0,   0,   0,   0,\n",
       "          0,   0,   0,   0,   0,   0,   0,   0,   0,   0,   0,   0,   0,\n",
       "          0,   0],\n",
       "       [  0,   0,   0,   0,   0,   0,   0,   0,   0,  44, 131, 219, 219,\n",
       "        143,  10,   0,   0,   0,   0,   0,   0,   0,   0,   0,   0,   0,\n",
       "          0,   0],\n",
       "       [  0,   0,   0,   0,   0,   0,   0,   0,  83, 229, 253, 253, 253,\n",
       "        253, 104,   0,   0,   0,   0,   0,   0,   0,   0,   0,   0,   0,\n",
       "          0,   0],\n",
       "       [  0,   0,   0,   0,   0,   0,   0,  46, 227, 253, 226, 124, 246,\n",
       "        253, 239, 149, 107,  30,  30,   4,   0,   0,   0,   0,   0,   0,\n",
       "          0,   0],\n",
       "       [  0,   0,   0,   0,   0,   0,   4, 194, 253, 199,  34,   0, 121,\n",
       "        234, 253, 253, 253, 253, 253, 183,  85,  74,   0,   0,   0,   0,\n",
       "          0,   0],\n",
       "       [  0,   0,   0,   0,   0,   0, 159, 253, 227,  41,   0,   0,   0,\n",
       "         11,  34, 114, 114, 120, 225, 253, 253, 252, 204,  76,   0,   0,\n",
       "          0,   0],\n",
       "       [  0,   0,   0,   0,   0,  43, 243, 253,  97,   0,   0,   0,   0,\n",
       "          0,   0,   0,   0,   0,  17,  60,  59, 202, 253, 243,  79,   0,\n",
       "          0,   0],\n",
       "       [  0,   0,   0,   0,   0, 133, 253, 130,   1,   0,   0,   0,   0,\n",
       "          0,   0,   0,   0,   0,   0,   0,   0,   3, 131, 253, 193,   0,\n",
       "          0,   0],\n",
       "       [  0,   0,   0,   0,   0, 254, 245,  18,   0,   0,   0,   0,   0,\n",
       "          0,   0,   0,   0,   0,   0,   0,   0,   1, 132, 253, 153,   0,\n",
       "          0,   0],\n",
       "       [  0,   0,   0,   0,   0, 254, 243,   0,   0,   0,   0,   0,   0,\n",
       "          0,   0,   0,   0,   0,   0,   0,   0,  59, 253, 243,  79,   0,\n",
       "          0,   0],\n",
       "       [  0,   0,   0,   0,   0, 254, 252,  76,   0,   0,   0,   0,   0,\n",
       "          0,   0,   0,   0,   0,   0,  24, 146, 235, 248, 157,   0,   0,\n",
       "          0,   0],\n",
       "       [  0,   0,   0,   0,   0, 160, 253, 199,  51,   0,   0,   0,   0,\n",
       "          0,   0,   0,  45, 116, 169, 244, 253, 216,  80,   0,   0,   0,\n",
       "          0,   0],\n",
       "       [  0,   0,   0,   0,   0,  28, 212, 253, 240, 156,  74,  26, 120,\n",
       "        126, 125, 166, 243, 253, 247, 228, 158,  22,   0,   0,   0,   0,\n",
       "          0,   0],\n",
       "       [  0,   0,   0,   0,   0,   0,   3, 159, 253, 253, 253, 253, 253,\n",
       "        253, 253, 253, 235, 168,  54,   0,   0,   0,   0,   0,   0,   0,\n",
       "          0,   0],\n",
       "       [  0,   0,   0,   0,   0,   0,   0,   5,  67, 120, 120, 120, 120,\n",
       "        120, 120,  78,  15,   0,   0,   0,   0,   0,   0,   0,   0,   0,\n",
       "          0,   0],\n",
       "       [  0,   0,   0,   0,   0,   0,   0,   0,   0,   0,   0,   0,   0,\n",
       "          0,   0,   0,   0,   0,   0,   0,   0,   0,   0,   0,   0,   0,\n",
       "          0,   0],\n",
       "       [  0,   0,   0,   0,   0,   0,   0,   0,   0,   0,   0,   0,   0,\n",
       "          0,   0,   0,   0,   0,   0,   0,   0,   0,   0,   0,   0,   0,\n",
       "          0,   0],\n",
       "       [  0,   0,   0,   0,   0,   0,   0,   0,   0,   0,   0,   0,   0,\n",
       "          0,   0,   0,   0,   0,   0,   0,   0,   0,   0,   0,   0,   0,\n",
       "          0,   0],\n",
       "       [  0,   0,   0,   0,   0,   0,   0,   0,   0,   0,   0,   0,   0,\n",
       "          0,   0,   0,   0,   0,   0,   0,   0,   0,   0,   0,   0,   0,\n",
       "          0,   0],\n",
       "       [  0,   0,   0,   0,   0,   0,   0,   0,   0,   0,   0,   0,   0,\n",
       "          0,   0,   0,   0,   0,   0,   0,   0,   0,   0,   0,   0,   0,\n",
       "          0,   0],\n",
       "       [  0,   0,   0,   0,   0,   0,   0,   0,   0,   0,   0,   0,   0,\n",
       "          0,   0,   0,   0,   0,   0,   0,   0,   0,   0,   0,   0,   0,\n",
       "          0,   0],\n",
       "       [  0,   0,   0,   0,   0,   0,   0,   0,   0,   0,   0,   0,   0,\n",
       "          0,   0,   0,   0,   0,   0,   0,   0,   0,   0,   0,   0,   0,\n",
       "          0,   0]], dtype=uint8)"
      ]
     },
     "execution_count": 4,
     "metadata": {},
     "output_type": "execute_result"
    },
    {
     "data": {
      "image/png": "[encoded data removed]",
      "text/plain": [
       "<Figure size 432x288 with 1 Axes>"
      ]
     },
     "metadata": {
      "needs_background": "light"
     },
     "output_type": "display_data"
    }
   ],
   "source": [
    "import random\n",
    "n = random.randint(0,10000)\n",
    "plt.imshow(train_X[n])\n",
    "print(train_X[n].shape)\n",
    "train_X[n]"
   ]
  },
  {
   "cell_type": "code",
   "execution_count": 5,
   "id": "weekly-assessment",
   "metadata": {
    "tags": []
   },
   "outputs": [],
   "source": [
    "train_X = train_X.reshape(60000,784)\n",
    "test_X = test_X.reshape(10000,784)\n",
    "train_X = train_X/255.0\n",
    "test_X = test_X/255.0"
   ]
  },
  {
   "cell_type": "markdown",
   "id": "2917408f-f1a2-43e1-b78f-a5507ffe4a35",
   "metadata": {},
   "source": [
    "## MLP Model and training"
   ]
  },
  {
   "cell_type": "code",
   "execution_count": 6,
   "id": "freelance-field",
   "metadata": {},
   "outputs": [],
   "source": [
    "mlp = MLPClassifier(\n",
    "    hidden_layer_sizes=(50,20,10),\n",
    "    max_iter=20,\n",
    "    alpha=1e-4,\n",
    "    solver='sgd',\n",
    "    verbose=10,\n",
    "    random_state=2,\n",
    "    learning_rate_init=0.1,\n",
    ")"
   ]
  },
  {
   "cell_type": "code",
   "execution_count": 7,
   "id": "amino-electron",
   "metadata": {},
   "outputs": [
    {
     "name": "stdout",
     "output_type": "stream",
     "text": [
      "Iteration 1, loss = 0.39963090\n",
      "Iteration 2, loss = 0.14658442\n",
      "Iteration 3, loss = 0.11366563\n",
      "Iteration 4, loss = 0.09783710\n",
      "Iteration 5, loss = 0.08517722\n",
      "Iteration 6, loss = 0.07406628\n",
      "Iteration 7, loss = 0.06894677\n",
      "Iteration 8, loss = 0.06298696\n",
      "Iteration 9, loss = 0.05827175\n",
      "Iteration 10, loss = 0.05355534\n",
      "Iteration 11, loss = 0.04902992\n",
      "Iteration 12, loss = 0.04795391\n",
      "Iteration 13, loss = 0.04404919\n",
      "Iteration 14, loss = 0.04070476\n",
      "Iteration 15, loss = 0.03706383\n",
      "Iteration 16, loss = 0.04121240\n",
      "Iteration 17, loss = 0.03643501\n",
      "Iteration 18, loss = 0.03728308\n",
      "Iteration 19, loss = 0.03274896\n",
      "Iteration 20, loss = 0.03183691\n"
     ]
    },
    {
     "name": "stderr",
     "output_type": "stream",
     "text": [
      "/Users/Chrismicrowave/.pyenv/versions/3.7.3/lib/python3.7/site-packages/sklearn/neural_network/_multilayer_perceptron.py:696: ConvergenceWarning: Stochastic Optimizer: Maximum iterations (20) reached and the optimization hasn't converged yet.\n",
      "  ConvergenceWarning,\n"
     ]
    },
    {
     "data": {
      "text/plain": [
       "MLPClassifier(hidden_layer_sizes=(50, 20, 10), learning_rate_init=0.1,\n",
       "              max_iter=20, random_state=2, solver='sgd', verbose=10)"
      ]
     },
     "execution_count": 7,
     "metadata": {},
     "output_type": "execute_result"
    }
   ],
   "source": [
    "mlp.fit(train_X,train_y)"
   ]
  },
  {
   "cell_type": "code",
   "execution_count": 8,
   "id": "informational-banana",
   "metadata": {},
   "outputs": [
    {
     "name": "stdout",
     "output_type": "stream",
     "text": [
      "Training set score:  0.99235\n",
      "Test set score:  0.9687\n"
     ]
    }
   ],
   "source": [
    "print(\"Training set score: \",mlp.score(train_X,train_y))\n",
    "print(\"Test set score: \",mlp.score(test_X,test_y))"
   ]
  },
  {
   "cell_type": "code",
   "execution_count": 9,
   "id": "c70acecf-b73f-4461-9a91-a08d2c270539",
   "metadata": {
    "tags": []
   },
   "outputs": [],
   "source": [
    "#dump(mlp,'mlp.joblib')"
   ]
  },
  {
   "cell_type": "markdown",
   "id": "7e2b58ab-4cc1-4569-b6ed-53c1919858ed",
   "metadata": {},
   "source": [
    "## Test with user hand writting input"
   ]
  },
  {
   "cell_type": "code",
   "execution_count": 10,
   "id": "fda2529f-e020-469c-bf8f-7ac39febf73e",
   "metadata": {
    "tags": []
   },
   "outputs": [],
   "source": [
    "import imgPrep"
   ]
  },
  {
   "cell_type": "code",
   "execution_count": 11,
   "id": "a338e2eb-7e54-4060-b21b-e4fcb9a24a10",
   "metadata": {},
   "outputs": [
    {
     "name": "stdout",
     "output_type": "stream",
     "text": [
      "[2]\n"
     ]
    },
    {
     "data": {
      "image/png": "[encoded data removed]",
      "text/plain": [
       "<Figure size 432x288 with 1 Axes>"
      ]
     },
     "metadata": {
      "needs_background": "light"
     },
     "output_type": "display_data"
    }
   ],
   "source": [
    "img = io.imread('images/guess.png')\n",
    "plt.imshow(img)\n",
    "\n",
    "data = imgPrep.imgPrep(img)\n",
    "plt.imshow(data)\n",
    "\n",
    "data2 = data.reshape(1,784)\n",
    "\n",
    "p = mlp.predict(data2)\n",
    "print(p)"
   ]
  },
  {
   "cell_type": "code",
   "execution_count": 12,
   "id": "ac1405fb-f27b-4079-a74d-ff61879ee160",
   "metadata": {
    "tags": []
   },
   "outputs": [
    {
     "data": {
      "text/plain": [
       "array([[  0,   0,   0,   0,   0,   0,   0,   0,   0,   0,   0,   0,   0,\n",
       "          0,   0,   0,   0,   0,   0,   0,   0,   0,   0,   0,   0,   0,\n",
       "          0,   0,   0,   0,   0,   0,   0,   0,   0,   0,   0,   0,   0,\n",
       "          0,   0,   0,   0,   0,   0,   0,   0,   0,   0,   0,   0,   0,\n",
       "          0,   0,   0,   0,   0,   0,   0,   0,   0,   0,   0,   0,   0,\n",
       "         61, 110,   0,   0,   0,   0,   0,   0,   0,   0,   0,   0,   0,\n",
       "          0,   0,   0,   0,   0,   0,   0,   0,   0,   0,   0,   0,   0,\n",
       "          0,  54, 221, 249, 138,   0,   0,   0,   0,   0,   0,   0,   0,\n",
       "          0,   0,   0,   0,   0,   0,   0,   0,   0,   0,   0,   0,   0,\n",
       "          0,   0,   0, 142, 253, 248, 111,   0,   0,   0,   0,   0,   0,\n",
       "          0,   0,   0,   0,   0,   0,   0,   0,   0,   0,   0,   0,   0,\n",
       "          0,   0,   0,   0,   0, 202, 255, 213,   0,   0,   0,   0,   0,\n",
       "          0,   0,   0,   0,   0,   0,   0,   0,   0,   0,   0,   0,   0,\n",
       "          0,   0,   0,   0,   0,   0,  63, 240, 254, 158,   0,   0,   0,\n",
       "          0,   0,   0,   0,   0,   0,   0,   0,   0,   0,   0,   0,   0,\n",
       "          0,   0,   0,   0,   0,   0,   0,   0, 137, 253, 246,  84,   0,\n",
       "          0,   0,   0,   0, 200, 224,  77,   0,   0,   0,   0,   0,   0,\n",
       "          0,   0,   0,   0,   0,   0,   0,   0,   0,   0, 204, 255, 211,\n",
       "          0,   0,   0,   0,   0, 159, 253, 249, 101,   0,   0,   0,   0,\n",
       "          0,   0,   0,   0,   0,   0,   0,   0,   0,   0,   0,   0, 234,\n",
       "        254, 156,   0,   0,   0,   0,  75, 240, 255, 198,   0,   0,   0,\n",
       "          0,   0,   0,   0,   0,   0,   0,   0,   0,   0,   0,   0,   0,\n",
       "         79, 247, 252, 114,   0,   0,   0,   0, 176, 254, 241,  79,   0,\n",
       "          0,   0,   0,   0,   0,   0,   0,   0,   0,   0,   0,   0,   0,\n",
       "          0,   0,  55, 238, 254, 151,   0,   0,   0,  62, 237, 254, 178,\n",
       "          0,   0,   0,   0,   0,   0,   0,   0,   0,   0,   0,   0,   0,\n",
       "          0,   0,   0,   0,   0, 205, 255, 204,   0,   0,   0, 148, 253,\n",
       "        243,  79,   0,   0,   0,   0,   0,   0,   0,   0,   0,   0,   0,\n",
       "          0,   0,   0,   0,   0,   0,   0, 154, 254, 238,  66,   0,   0,\n",
       "        220, 255, 201,   0,   0,   0,   0,   0,   0,   0,   0,   0,   0,\n",
       "          0,   0,   0,   0,   0,   0,   0,   0,   0,  85, 244, 254, 208,\n",
       "        128, 145, 250, 252, 131,   0,   0,  75, 115,  81,   0,   0,   0,\n",
       "          0,   0,   0,   0,   0,   0,   0,   0,   0,   0,   0,   0, 168,\n",
       "        252, 255, 253, 251, 255, 253, 218, 215, 232, 246, 252, 232,  58,\n",
       "          0,   0,   0,   0,   0,   0,   0,   0,   0,   0,   0,   0,   0,\n",
       "          0,   0, 169, 225, 250, 255, 255, 255, 255, 255, 254, 251, 243,\n",
       "        203,   0,   0,   0,   0,   0,   0,   0,   0,   0,   0,   0,   0,\n",
       "          0,   0,   0,   0,   0,   0, 201, 255, 245, 194, 198, 179, 153,\n",
       "        110,  67,   0,   0,   0,   0,   0,   0,   0,   0,   0,   0,   0,\n",
       "          0,   0,   0,   0,   0,   0,   0,  56, 234, 255, 181,   0,   0,\n",
       "          0,   0,   0,   0,   0,   0,   0,   0,   0,   0,   0,   0,   0,\n",
       "          0,   0,   0,   0,   0,   0,   0,   0,   0, 142, 253, 245,  87,\n",
       "          0,   0,   0,   0,   0,   0,   0,   0,   0,   0,   0,   0,   0,\n",
       "          0,   0,   0,   0,   0,   0,   0,   0,   0,   0,   0, 211, 255,\n",
       "        200,   0,   0,   0,   0,   0,   0,   0,   0,   0,   0,   0,   0,\n",
       "          0,   0,   0,   0,   0,   0,   0,   0,   0,   0,   0,   0,  72,\n",
       "        243, 253, 130,   0,   0,   0,   0,   0,   0,   0,   0,   0,   0,\n",
       "          0,   0,   0,   0,   0,   0,   0,   0,   0,   0,   0,   0,   0,\n",
       "          0, 153, 254, 241,  65,   0,   0,   0,   0,   0,   0,   0,   0,\n",
       "          0,   0,   0,   0,   0,   0,   0,   0,   0,   0,   0,   0,   0,\n",
       "          0,   0,   0, 220, 255, 202,   0,   0,   0,   0,   0,   0,   0,\n",
       "          0,   0,   0,   0,   0,   0,   0,   0,   0,   0,   0,   0,   0,\n",
       "          0,   0,   0,   0,  64, 241, 253, 170,   0,   0,   0,   0,   0,\n",
       "          0,   0,   0,   0,   0,   0,   0,   0,   0,   0,   0,   0,   0,\n",
       "          0,   0,   0,   0,   0,   0,  62, 155, 149,  53,   0,   0,   0,\n",
       "          0,   0,   0,   0,   0,   0,   0,   0,   0,   0,   0,   0,   0,\n",
       "          0,   0,   0,   0,   0,   0,   0,   0,   0,   0,   0,   0,   0,\n",
       "          0,   0,   0,   0,   0,   0,   0,   0,   0,   0,   0,   0,   0,\n",
       "          0,   0,   0,   0,   0,   0,   0,   0,   0,   0,   0,   0,   0,\n",
       "          0,   0,   0,   0,   0,   0,   0,   0,   0,   0,   0,   0,   0,\n",
       "          0,   0,   0,   0]], dtype=uint8)"
      ]
     },
     "execution_count": 12,
     "metadata": {},
     "output_type": "execute_result"
    }
   ],
   "source": [
    "data2"
   ]
  },
  {
   "cell_type": "markdown",
   "id": "bfd675b6-c812-4e1d-a74a-a48069c7ff33",
   "metadata": {},
   "source": [
    "## Check Test set sample"
   ]
  },
  {
   "cell_type": "code",
   "execution_count": 13,
   "id": "20a91238-8a9c-4afa-b37b-46c07060df8c",
   "metadata": {
    "tags": []
   },
   "outputs": [
    {
     "name": "stdout",
     "output_type": "stream",
     "text": [
      "[6]\n"
     ]
    },
    {
     "data": {
      "image/png": "[encoded data removed]",
      "text/plain": [
       "<Figure size 432x288 with 1 Axes>"
      ]
     },
     "metadata": {
      "needs_background": "light"
     },
     "output_type": "display_data"
    }
   ],
   "source": [
    "n = random.randint(0,10000)\n",
    "test = dataTX[n]\n",
    "plt.imshow(test)\n",
    "testR = test.reshape(1,784)\n",
    "ptest = mlp.predict(testR)\n",
    "print(ptest)"
   ]
  },
  {
   "cell_type": "code",
   "execution_count": 14,
   "id": "ef18b82f-59a4-4e40-98e9-486745299f5c",
   "metadata": {
    "tags": []
   },
   "outputs": [
    {
     "data": {
      "text/plain": [
       "array([[  0,   0,   0,   0,   0,   0,   0,   0,   0,   0,   0,   0,   0,\n",
       "          0,   0,   0,   0,   0,   0,   0,   0,   0,   0,   0,   0,   0,\n",
       "          0,   0,   0,   0,   0,   0,   0,   0,   0,   0,   0,   0,   0,\n",
       "          0,   0,   0,   0,   0,   0,   0,   0,   0,   0,   0,   0,   0,\n",
       "          0,   0,   0,   0,   0,   0,   0,   0,   0,   0,   0,   0,   0,\n",
       "          0,   0,   0,   0,   0,   0,  42, 192, 137,   3,   0,   0,   0,\n",
       "          0,   0,   0,   0,   0,   0,   0,   0,   0,   0,   0,   0,   0,\n",
       "          0,   0,   0,   0,   0,   0,   0,   0,  78, 254, 254,   5,   0,\n",
       "          0,   0,   0,   0,   0,   0,   0,   0,   0,   0,   0,   0,   0,\n",
       "          0,   0,   0,   0,   0,   0,   0,   0,   0,  38, 170, 254, 231,\n",
       "          4,   0,   0,   0,   0,   0,   0,   0,   0,   0,   0,   0,   0,\n",
       "          0,   0,   0,   0,   0,   0,   0,   0,   0,   7, 146, 235, 254,\n",
       "        228,  47,   0,   0,   0,   0,   0,   0,   0,   0,   0,   0,   0,\n",
       "          0,   0,   0,   0,   0,   0,   0,   0,   0,   0,  47, 212, 254,\n",
       "        254, 254,  63,   0,   0,   0,   0,   0,   0,   0,   0,   0,   0,\n",
       "          0,   0,   0,   0,   0,   0,   0,   0,   0,   0,   0,   0, 126,\n",
       "        254, 254, 254, 186,   5,   0,   0,   0,   0,   0,   0,   0,   0,\n",
       "          0,   0,   0,   0,   0,   0,   0,   0,   0,   0,   0,   0,   0,\n",
       "          3, 239, 254, 254, 225,  35,   0,   0,   0,   0,   0,   0,   0,\n",
       "          0,   0,   0,   0,   0,   0,   0,   0,   0,   0,   0,   0,   0,\n",
       "          0,   9, 176, 254, 254, 251, 122,   0,   0,   0,   0,   0,   0,\n",
       "          0,   0,   0,   0,   0,   0,   0,   0,   0,   0,   0,   0,   0,\n",
       "          0,   0,   0,  90, 254, 254, 239,  79,   0,   0,   0,   0,   0,\n",
       "          0,   0,   0,   0,   0,   0,   0,   0,   0,   0,   0,   0,   0,\n",
       "          0,   0,   0,   0,  45, 128, 254, 254, 231,   0,   0,  19,  60,\n",
       "        113, 118,  53,   0,   0,   0,   0,   0,   0,   0,   0,   0,   0,\n",
       "          0,   0,   0,   0,   0,   0, 190, 254, 254, 253, 106,   0,  83,\n",
       "        214, 254, 254, 254, 248,  68,   0,   0,   0,   0,   0,   0,   0,\n",
       "          0,   0,   0,   0,   0,   0,   0,   0, 146, 254, 254, 204,   0,\n",
       "         16, 207, 254, 255, 254, 254, 254, 188,   0,   0,   0,   0,   0,\n",
       "          0,   0,   0,   0,   0,   0,   0,   0,   0,   0,  72, 254, 254,\n",
       "        129,  11, 136, 254, 254, 254, 254, 202, 254, 228,  32,   0,   0,\n",
       "          0,   0,   0,   0,   0,   0,   0,   0,   0,   0,   0,   0,  72,\n",
       "        254, 254, 129, 135, 254, 254, 254, 200,  16,  64, 200, 254,  71,\n",
       "          0,   0,   0,   0,   0,   0,   0,   0,   0,   0,   0,   0,   0,\n",
       "          0,  64, 249, 254, 129,  24, 254, 255, 209,  17,   0,   2, 161,\n",
       "        254,  71,   0,   0,   0,   0,   0,   0,   0,   0,   0,   0,   0,\n",
       "          0,   0,   0,   0, 130, 254, 152,  24, 254, 254, 155,   0,   0,\n",
       "         90, 254, 246,  58,   0,   0,   0,   0,   0,   0,   0,   0,   0,\n",
       "          0,   0,   0,   0,   0,   0,  67, 247, 253, 135, 254, 254,  59,\n",
       "          0,  60, 218, 254, 176,   0,   0,   0,   0,   0,   0,   0,   0,\n",
       "          0,   0,   0,   0,   0,   0,   0,   0,   0, 226, 254, 254, 254,\n",
       "        254, 214, 103, 239, 254, 192,  19,   0,   0,   0,   0,   0,   0,\n",
       "          0,   0,   0,   0,   0,   0,   0,   0,   0,   0,   0, 179, 254,\n",
       "        254, 254, 254, 254, 254, 254, 197,  15,   0,   0,   0,   0,   0,\n",
       "          0,   0,   0,   0,   0,   0,   0,   0,   0,   0,   0,   0,   0,\n",
       "          8,  76, 146, 254, 254, 254, 210, 135,  11,   0,   0,   0,   0,\n",
       "          0,   0,   0,   0,   0,   0,   0,   0,   0,   0,   0,   0,   0,\n",
       "          0,   0,   0,   0,   0,   0,   0,   0,   0,   0,   0,   0,   0,\n",
       "          0,   0,   0,   0,   0,   0,   0,   0,   0,   0,   0,   0,   0,\n",
       "          0,   0,   0,   0,   0,   0,   0,   0,   0,   0,   0,   0,   0,\n",
       "          0,   0,   0,   0,   0,   0,   0,   0,   0,   0,   0,   0,   0,\n",
       "          0,   0,   0,   0,   0,   0,   0,   0,   0,   0,   0,   0,   0,\n",
       "          0,   0,   0,   0,   0,   0,   0,   0,   0,   0,   0,   0,   0,\n",
       "          0,   0,   0,   0,   0,   0,   0,   0,   0,   0,   0,   0,   0,\n",
       "          0,   0,   0,   0,   0,   0,   0,   0,   0,   0,   0,   0,   0,\n",
       "          0,   0,   0,   0,   0,   0,   0,   0,   0,   0,   0,   0,   0,\n",
       "          0,   0,   0,   0,   0,   0,   0,   0,   0,   0,   0,   0,   0,\n",
       "          0,   0,   0,   0,   0,   0,   0,   0,   0,   0,   0,   0,   0,\n",
       "          0,   0,   0,   0,   0,   0,   0,   0,   0,   0,   0,   0,   0,\n",
       "          0,   0,   0,   0]], dtype=uint8)"
      ]
     },
     "execution_count": 14,
     "metadata": {},
     "output_type": "execute_result"
    }
   ],
   "source": [
    "testR"
   ]
  },
  {
   "cell_type": "markdown",
   "id": "37832adf-9d57-4bdd-9c7d-ce7d1a51d69a",
   "metadata": {
    "tags": []
   },
   "source": [
    "## Try SVM model"
   ]
  },
  {
   "cell_type": "code",
   "execution_count": 28,
   "id": "technological-little",
   "metadata": {
    "tags": []
   },
   "outputs": [],
   "source": [
    "svcclf = svm.SVC(\n",
    "    gamma=0.001,\n",
    "    # class_weight='balanced',\n",
    "    # C=10,\n",
    "    # verbose = 1,\n",
    ")\n"
   ]
  },
  {
   "cell_type": "code",
   "execution_count": 29,
   "id": "e308da51-2dc3-42a8-b16b-117b4217589c",
   "metadata": {},
   "outputs": [
    {
     "data": {
      "text/plain": [
       "SVC(gamma=0.001)"
      ]
     },
     "execution_count": 29,
     "metadata": {},
     "output_type": "execute_result"
    }
   ],
   "source": [
    "svcclf.fit(train_X,train_y)"
   ]
  },
  {
   "cell_type": "code",
   "execution_count": 24,
   "id": "fc9a596b-3fa7-45dc-b571-07218812a467",
   "metadata": {},
   "outputs": [
    {
     "name": "stdout",
     "output_type": "stream",
     "text": [
      "Test set score:  0.958\n"
     ]
    }
   ],
   "source": [
    "print(\"Test set score: \",svcclf.score(test_X,test_y))"
   ]
  },
  {
   "cell_type": "code",
   "execution_count": 18,
   "id": "7c5b1899-b469-46be-80ca-d6b59261a072",
   "metadata": {},
   "outputs": [],
   "source": [
    "#dump(svcclf,'svcclf.joblib')"
   ]
  },
  {
   "cell_type": "markdown",
   "id": "4ad2a4ed-e3b2-41f5-9ec9-51c77436d366",
   "metadata": {},
   "source": [
    "## Check with test set"
   ]
  },
  {
   "cell_type": "code",
   "execution_count": 19,
   "id": "280cf559-c894-40bb-ac17-f7e428b99154",
   "metadata": {},
   "outputs": [],
   "source": [
    "#svcclf = load('svcclf.joblib')"
   ]
  },
  {
   "cell_type": "code",
   "execution_count": 39,
   "id": "caring-scottish",
   "metadata": {},
   "outputs": [
    {
     "name": "stdout",
     "output_type": "stream",
     "text": [
      "[2]\n"
     ]
    },
    {
     "data": {
      "image/png": "[encoded data removed]",
      "text/plain": [
       "<Figure size 432x288 with 1 Axes>"
      ]
     },
     "metadata": {
      "needs_background": "light"
     },
     "output_type": "display_data"
    }
   ],
   "source": [
    "n = random.randint(0,10000)\n",
    "aa = dataTX[n]\n",
    "plt.imshow(aa)\n",
    "a = aa.reshape(1,784)\n",
    "p = svcclf.predict(a)\n",
    "print(p)"
   ]
  },
  {
   "cell_type": "markdown",
   "id": "b4604858-ad87-4f7f-a828-92a0139013b9",
   "metadata": {},
   "source": [
    "# check with user input"
   ]
  },
  {
   "cell_type": "code",
   "execution_count": 41,
   "id": "73ebcd66-2dde-4827-8699-f7a92d70e114",
   "metadata": {
    "tags": []
   },
   "outputs": [
    {
     "name": "stdout",
     "output_type": "stream",
     "text": [
      "prediction:  [2]\n"
     ]
    },
    {
     "data": {
      "image/png": "[encoded data removed]",
      "text/plain": [
       "<Figure size 432x288 with 1 Axes>"
      ]
     },
     "metadata": {
      "needs_background": "light"
     },
     "output_type": "display_data"
    }
   ],
   "source": [
    "data = io.imread('images/guess.png')\n",
    "data = imgPrep.imgPrep(data)\n",
    "plt.imshow(data)\n",
    "\n",
    "a = data.reshape(1,784)\n",
    "p = svcclf.predict(a)\n",
    "\n",
    "print('prediction: ',p)"
   ]
  },
  {
   "cell_type": "code",
   "execution_count": null,
   "id": "linear-groove",
   "metadata": {},
   "outputs": [],
   "source": []
  },
  {
   "cell_type": "code",
   "execution_count": null,
   "id": "6f1bf03f-fc10-49b1-aab8-f481b7723cba",
   "metadata": {},
   "outputs": [],
   "source": []
  }
 ],
 "metadata": {
  "kernelspec": {
   "display_name": "Python 3",
   "language": "python",
   "name": "python3"
  },
  "language_info": {
   "codemirror_mode": {
    "name": "ipython",
    "version": 3
   },
   "file_extension": ".py",
   "mimetype": "text/x-python",
   "name": "python",
   "nbconvert_exporter": "python",
   "pygments_lexer": "ipython3",
   "version": "3.7.3"
  }
 },
 "nbformat": 4,
 "nbformat_minor": 5
}
